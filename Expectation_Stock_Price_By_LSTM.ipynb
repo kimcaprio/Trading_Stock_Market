{
 "cells": [
  {
   "cell_type": "code",
   "execution_count": 1,
   "metadata": {},
   "outputs": [],
   "source": [
    "#!pip install keras\n",
    "#!pip install tensorflow-gpu"
   ]
  },
  {
   "cell_type": "code",
   "execution_count": 2,
   "metadata": {},
   "outputs": [],
   "source": [
    "from keras.layers.core import Dense, Activation, Dropout\n",
    "from keras.layers.recurrent import LSTM\n",
    "from keras.models import Sequential\n",
    "import lstm, time #helper libraries\n"
   ]
  },
  {
   "cell_type": "code",
   "execution_count": 3,
   "metadata": {},
   "outputs": [],
   "source": [
    "#Step 1 Load Data\n",
    "X_train, y_train, X_test, y_test = lstm.load_data('sp500.csv', 50, True)"
   ]
  },
  {
   "cell_type": "code",
   "execution_count": 8,
   "metadata": {},
   "outputs": [
    {
     "name": "stdout",
     "output_type": "stream",
     "text": [
      "compilation time :  0.029908418655395508\n"
     ]
    }
   ],
   "source": [
    "#Step 2 Build Model\n",
    "model = Sequential()\n",
    "\n",
    "model.add(LSTM(\n",
    "    50,\n",
    "    return_sequences=True))\n",
    "model.add(Dropout(0.2))\n",
    "\n",
    "model.add(LSTM(\n",
    "    100,\n",
    "    return_sequences=False))\n",
    "model.add(Dropout(0.2))\n",
    "\n",
    "model.add(Dense(\n",
    "    1))\n",
    "model.add(Activation('linear'))\n",
    "\n",
    "start = time.time()\n",
    "model.compile(loss='mse', optimizer='rmsprop')\n",
    "print('compilation time : ', time.time() - start)"
   ]
  },
  {
   "cell_type": "code",
   "execution_count": 11,
   "metadata": {},
   "outputs": [
    {
     "name": "stdout",
     "output_type": "stream",
     "text": [
      "Epoch 1/100\n",
      "7/7 [==============================] - 0s 12ms/step - loss: 8.1052e-04 - val_loss: 5.6411e-04\n",
      "Epoch 2/100\n",
      "7/7 [==============================] - 0s 12ms/step - loss: 6.9251e-04 - val_loss: 6.7837e-04\n",
      "Epoch 3/100\n",
      "7/7 [==============================] - 0s 12ms/step - loss: 6.8459e-04 - val_loss: 4.1839e-04\n",
      "Epoch 4/100\n",
      "7/7 [==============================] - 0s 12ms/step - loss: 5.7169e-04 - val_loss: 4.9738e-04\n",
      "Epoch 5/100\n",
      "7/7 [==============================] - 0s 12ms/step - loss: 6.0127e-04 - val_loss: 5.2697e-04\n",
      "Epoch 6/100\n",
      "7/7 [==============================] - 0s 12ms/step - loss: 5.2348e-04 - val_loss: 4.1529e-04\n",
      "Epoch 7/100\n",
      "7/7 [==============================] - 0s 12ms/step - loss: 4.8842e-04 - val_loss: 4.2236e-04\n",
      "Epoch 8/100\n",
      "7/7 [==============================] - 0s 12ms/step - loss: 4.7354e-04 - val_loss: 4.4659e-04\n",
      "Epoch 9/100\n",
      "7/7 [==============================] - 0s 12ms/step - loss: 4.7566e-04 - val_loss: 3.7381e-04\n",
      "Epoch 10/100\n",
      "7/7 [==============================] - 0s 11ms/step - loss: 4.1856e-04 - val_loss: 5.6871e-04\n",
      "Epoch 11/100\n",
      "7/7 [==============================] - 0s 12ms/step - loss: 4.3915e-04 - val_loss: 4.7612e-04\n",
      "Epoch 12/100\n",
      "7/7 [==============================] - 0s 12ms/step - loss: 4.2098e-04 - val_loss: 3.6174e-04\n",
      "Epoch 13/100\n",
      "7/7 [==============================] - 0s 11ms/step - loss: 4.0802e-04 - val_loss: 3.0760e-04\n",
      "Epoch 14/100\n",
      "7/7 [==============================] - 0s 11ms/step - loss: 3.8467e-04 - val_loss: 4.3401e-04\n",
      "Epoch 15/100\n",
      "7/7 [==============================] - 0s 11ms/step - loss: 3.5409e-04 - val_loss: 2.7687e-04\n",
      "Epoch 16/100\n",
      "7/7 [==============================] - 0s 11ms/step - loss: 4.1549e-04 - val_loss: 2.8616e-04\n",
      "Epoch 17/100\n",
      "7/7 [==============================] - 0s 11ms/step - loss: 3.5838e-04 - val_loss: 2.6660e-04\n",
      "Epoch 18/100\n",
      "7/7 [==============================] - 0s 12ms/step - loss: 3.8390e-04 - val_loss: 3.3153e-04\n",
      "Epoch 19/100\n",
      "7/7 [==============================] - 0s 11ms/step - loss: 3.4053e-04 - val_loss: 3.1192e-04\n",
      "Epoch 20/100\n",
      "7/7 [==============================] - 0s 11ms/step - loss: 3.3560e-04 - val_loss: 2.4764e-04\n",
      "Epoch 21/100\n",
      "7/7 [==============================] - 0s 12ms/step - loss: 3.2978e-04 - val_loss: 2.6016e-04\n",
      "Epoch 22/100\n",
      "7/7 [==============================] - 0s 11ms/step - loss: 3.1558e-04 - val_loss: 2.5361e-04\n",
      "Epoch 23/100\n",
      "7/7 [==============================] - 0s 11ms/step - loss: 3.2156e-04 - val_loss: 2.6745e-04\n",
      "Epoch 24/100\n",
      "7/7 [==============================] - 0s 11ms/step - loss: 3.1980e-04 - val_loss: 2.3760e-04\n",
      "Epoch 25/100\n",
      "7/7 [==============================] - 0s 11ms/step - loss: 3.0343e-04 - val_loss: 3.2682e-04\n",
      "Epoch 26/100\n",
      "7/7 [==============================] - 0s 12ms/step - loss: 3.0708e-04 - val_loss: 2.7365e-04\n",
      "Epoch 27/100\n",
      "7/7 [==============================] - 0s 11ms/step - loss: 3.1422e-04 - val_loss: 2.3357e-04\n",
      "Epoch 28/100\n",
      "7/7 [==============================] - 0s 12ms/step - loss: 2.8679e-04 - val_loss: 2.2077e-04\n",
      "Epoch 29/100\n",
      "7/7 [==============================] - 0s 12ms/step - loss: 3.0463e-04 - val_loss: 2.1209e-04\n",
      "Epoch 30/100\n",
      "7/7 [==============================] - 0s 12ms/step - loss: 3.1167e-04 - val_loss: 2.1282e-04\n",
      "Epoch 31/100\n",
      "7/7 [==============================] - 0s 12ms/step - loss: 2.6054e-04 - val_loss: 2.1589e-04\n",
      "Epoch 32/100\n",
      "7/7 [==============================] - 0s 11ms/step - loss: 3.0657e-04 - val_loss: 2.0054e-04\n",
      "Epoch 33/100\n",
      "7/7 [==============================] - 0s 11ms/step - loss: 2.7797e-04 - val_loss: 1.7258e-04\n",
      "Epoch 34/100\n",
      "7/7 [==============================] - 0s 11ms/step - loss: 2.5933e-04 - val_loss: 2.8120e-04\n",
      "Epoch 35/100\n",
      "7/7 [==============================] - 0s 12ms/step - loss: 3.0501e-04 - val_loss: 2.6149e-04\n",
      "Epoch 36/100\n",
      "7/7 [==============================] - 0s 11ms/step - loss: 2.3593e-04 - val_loss: 1.8344e-04\n",
      "Epoch 37/100\n",
      "7/7 [==============================] - 0s 12ms/step - loss: 2.7029e-04 - val_loss: 3.0350e-04\n",
      "Epoch 38/100\n",
      "7/7 [==============================] - 0s 12ms/step - loss: 2.8067e-04 - val_loss: 1.6349e-04\n",
      "Epoch 39/100\n",
      "7/7 [==============================] - 0s 11ms/step - loss: 2.6435e-04 - val_loss: 2.7481e-04\n",
      "Epoch 40/100\n",
      "7/7 [==============================] - 0s 11ms/step - loss: 2.6862e-04 - val_loss: 1.5673e-04\n",
      "Epoch 41/100\n",
      "7/7 [==============================] - 0s 12ms/step - loss: 2.2938e-04 - val_loss: 2.2484e-04\n",
      "Epoch 42/100\n",
      "7/7 [==============================] - 0s 11ms/step - loss: 2.9679e-04 - val_loss: 1.8073e-04\n",
      "Epoch 43/100\n",
      "7/7 [==============================] - 0s 11ms/step - loss: 2.6375e-04 - val_loss: 1.8636e-04\n",
      "Epoch 44/100\n",
      "7/7 [==============================] - 0s 11ms/step - loss: 2.5516e-04 - val_loss: 1.6129e-04\n",
      "Epoch 45/100\n",
      "7/7 [==============================] - 0s 11ms/step - loss: 2.4402e-04 - val_loss: 2.0828e-04\n",
      "Epoch 46/100\n",
      "7/7 [==============================] - 0s 12ms/step - loss: 2.5032e-04 - val_loss: 2.0267e-04\n",
      "Epoch 47/100\n",
      "7/7 [==============================] - 0s 12ms/step - loss: 2.6470e-04 - val_loss: 2.0416e-04\n",
      "Epoch 48/100\n",
      "7/7 [==============================] - 0s 12ms/step - loss: 2.2582e-04 - val_loss: 1.9602e-04\n",
      "Epoch 49/100\n",
      "7/7 [==============================] - 0s 11ms/step - loss: 2.4072e-04 - val_loss: 1.5692e-04\n",
      "Epoch 50/100\n",
      "7/7 [==============================] - 0s 11ms/step - loss: 2.6333e-04 - val_loss: 1.7426e-04\n",
      "Epoch 51/100\n",
      "7/7 [==============================] - 0s 12ms/step - loss: 2.3081e-04 - val_loss: 1.4685e-04\n",
      "Epoch 52/100\n",
      "7/7 [==============================] - 0s 11ms/step - loss: 2.3969e-04 - val_loss: 2.3679e-04\n",
      "Epoch 53/100\n",
      "7/7 [==============================] - 0s 12ms/step - loss: 2.3842e-04 - val_loss: 1.5698e-04\n",
      "Epoch 54/100\n",
      "7/7 [==============================] - 0s 12ms/step - loss: 2.3677e-04 - val_loss: 1.7430e-04\n",
      "Epoch 55/100\n",
      "7/7 [==============================] - 0s 11ms/step - loss: 2.2334e-04 - val_loss: 1.4872e-04\n",
      "Epoch 56/100\n",
      "7/7 [==============================] - 0s 12ms/step - loss: 2.5208e-04 - val_loss: 1.5005e-04\n",
      "Epoch 57/100\n",
      "7/7 [==============================] - 0s 11ms/step - loss: 2.0439e-04 - val_loss: 2.0031e-04\n",
      "Epoch 58/100\n",
      "7/7 [==============================] - 0s 11ms/step - loss: 2.3503e-04 - val_loss: 1.6242e-04\n",
      "Epoch 59/100\n",
      "7/7 [==============================] - 0s 11ms/step - loss: 2.3174e-04 - val_loss: 1.3522e-04\n",
      "Epoch 60/100\n",
      "7/7 [==============================] - 0s 11ms/step - loss: 2.1813e-04 - val_loss: 2.0092e-04\n",
      "Epoch 61/100\n",
      "7/7 [==============================] - 0s 11ms/step - loss: 2.3002e-04 - val_loss: 1.5691e-04\n",
      "Epoch 62/100\n",
      "7/7 [==============================] - 0s 12ms/step - loss: 2.1726e-04 - val_loss: 1.4374e-04\n",
      "Epoch 63/100\n",
      "7/7 [==============================] - 0s 12ms/step - loss: 2.1480e-04 - val_loss: 2.8160e-04\n",
      "Epoch 64/100\n",
      "7/7 [==============================] - 0s 11ms/step - loss: 2.5025e-04 - val_loss: 1.3904e-04\n",
      "Epoch 65/100\n",
      "7/7 [==============================] - 0s 11ms/step - loss: 2.1329e-04 - val_loss: 1.5724e-04\n",
      "Epoch 66/100\n",
      "7/7 [==============================] - 0s 12ms/step - loss: 2.2363e-04 - val_loss: 1.7563e-04\n",
      "Epoch 67/100\n",
      "7/7 [==============================] - 0s 11ms/step - loss: 2.2523e-04 - val_loss: 1.4108e-04\n",
      "Epoch 68/100\n",
      "7/7 [==============================] - 0s 11ms/step - loss: 2.4794e-04 - val_loss: 1.7436e-04\n",
      "Epoch 69/100\n",
      "7/7 [==============================] - 0s 11ms/step - loss: 2.1115e-04 - val_loss: 1.4367e-04\n",
      "Epoch 70/100\n",
      "7/7 [==============================] - 0s 11ms/step - loss: 2.3386e-04 - val_loss: 1.6462e-04\n",
      "Epoch 71/100\n",
      "7/7 [==============================] - 0s 11ms/step - loss: 2.3560e-04 - val_loss: 1.4824e-04\n",
      "Epoch 72/100\n",
      "7/7 [==============================] - 0s 11ms/step - loss: 2.1340e-04 - val_loss: 1.3996e-04\n",
      "Epoch 73/100\n",
      "7/7 [==============================] - 0s 11ms/step - loss: 2.3406e-04 - val_loss: 1.7524e-04\n",
      "Epoch 74/100\n",
      "7/7 [==============================] - 0s 11ms/step - loss: 2.2039e-04 - val_loss: 1.4477e-04\n",
      "Epoch 75/100\n",
      "7/7 [==============================] - 0s 12ms/step - loss: 2.1356e-04 - val_loss: 1.4451e-04\n",
      "Epoch 76/100\n",
      "7/7 [==============================] - 0s 12ms/step - loss: 2.2622e-04 - val_loss: 1.6278e-04\n",
      "Epoch 77/100\n"
     ]
    },
    {
     "name": "stdout",
     "output_type": "stream",
     "text": [
      "7/7 [==============================] - 0s 12ms/step - loss: 2.3297e-04 - val_loss: 1.3259e-04\n",
      "Epoch 78/100\n",
      "7/7 [==============================] - 0s 12ms/step - loss: 1.9478e-04 - val_loss: 1.3894e-04\n",
      "Epoch 79/100\n",
      "7/7 [==============================] - 0s 11ms/step - loss: 2.4410e-04 - val_loss: 1.3123e-04\n",
      "Epoch 80/100\n",
      "7/7 [==============================] - 0s 11ms/step - loss: 2.0604e-04 - val_loss: 1.7041e-04\n",
      "Epoch 81/100\n",
      "7/7 [==============================] - 0s 11ms/step - loss: 2.2697e-04 - val_loss: 1.2784e-04\n",
      "Epoch 82/100\n",
      "7/7 [==============================] - 0s 12ms/step - loss: 2.0094e-04 - val_loss: 2.4922e-04\n",
      "Epoch 83/100\n",
      "7/7 [==============================] - 0s 12ms/step - loss: 2.2634e-04 - val_loss: 1.3870e-04\n",
      "Epoch 84/100\n",
      "7/7 [==============================] - 0s 11ms/step - loss: 2.0194e-04 - val_loss: 2.4059e-04\n",
      "Epoch 85/100\n",
      "7/7 [==============================] - 0s 12ms/step - loss: 2.3005e-04 - val_loss: 1.2696e-04\n",
      "Epoch 86/100\n",
      "7/7 [==============================] - 0s 12ms/step - loss: 1.9336e-04 - val_loss: 1.6224e-04\n",
      "Epoch 87/100\n",
      "7/7 [==============================] - 0s 11ms/step - loss: 2.4280e-04 - val_loss: 1.3172e-04\n",
      "Epoch 88/100\n",
      "7/7 [==============================] - 0s 11ms/step - loss: 2.0274e-04 - val_loss: 1.6475e-04\n",
      "Epoch 89/100\n",
      "7/7 [==============================] - 0s 11ms/step - loss: 2.2950e-04 - val_loss: 1.4738e-04\n",
      "Epoch 90/100\n",
      "7/7 [==============================] - 0s 12ms/step - loss: 2.0924e-04 - val_loss: 1.9140e-04\n",
      "Epoch 91/100\n",
      "7/7 [==============================] - 0s 11ms/step - loss: 2.0183e-04 - val_loss: 1.4383e-04\n",
      "Epoch 92/100\n",
      "7/7 [==============================] - 0s 11ms/step - loss: 2.1870e-04 - val_loss: 1.8076e-04\n",
      "Epoch 93/100\n",
      "7/7 [==============================] - 0s 12ms/step - loss: 2.0440e-04 - val_loss: 1.3543e-04\n",
      "Epoch 94/100\n",
      "7/7 [==============================] - 0s 11ms/step - loss: 2.2033e-04 - val_loss: 1.6052e-04\n",
      "Epoch 95/100\n",
      "7/7 [==============================] - 0s 12ms/step - loss: 2.1450e-04 - val_loss: 1.4284e-04\n",
      "Epoch 96/100\n",
      "7/7 [==============================] - 0s 11ms/step - loss: 2.1709e-04 - val_loss: 1.7602e-04\n",
      "Epoch 97/100\n",
      "7/7 [==============================] - 0s 12ms/step - loss: 2.0762e-04 - val_loss: 1.3937e-04\n",
      "Epoch 98/100\n",
      "7/7 [==============================] - 0s 11ms/step - loss: 1.9717e-04 - val_loss: 1.7316e-04\n",
      "Epoch 99/100\n",
      "7/7 [==============================] - 0s 12ms/step - loss: 2.3304e-04 - val_loss: 1.2948e-04\n",
      "Epoch 100/100\n",
      "7/7 [==============================] - 0s 11ms/step - loss: 2.1248e-04 - val_loss: 1.6515e-04\n"
     ]
    },
    {
     "data": {
      "text/plain": [
       "<tensorflow.python.keras.callbacks.History at 0x7fb5d4136208>"
      ]
     },
     "execution_count": 11,
     "metadata": {},
     "output_type": "execute_result"
    }
   ],
   "source": [
    "#Step 3 Train the model\n",
    "model.fit(\n",
    "    X_train,\n",
    "    y_train,\n",
    "    batch_size=512,\n",
    "    epochs=100,\n",
    "    validation_split=0.05)"
   ]
  },
  {
   "cell_type": "code",
   "execution_count": 12,
   "metadata": {},
   "outputs": [
    {
     "name": "stdout",
     "output_type": "stream",
     "text": [
      "yo\n"
     ]
    },
    {
     "data": {
      "image/png": "[encoded data removed]",
      "text/plain": [
       "<Figure size 432x288 with 1 Axes>"
      ]
     },
     "metadata": {},
     "output_type": "display_data"
    }
   ],
   "source": [
    "#Step 4 - Plot the predictions!\n",
    "predictions = lstm.predict_sequences_multiple(model, X_test, 50, 50)\n",
    "lstm.plot_results_multiple(predictions, y_test, 50)"
   ]
  },
  {
   "cell_type": "code",
   "execution_count": null,
   "metadata": {},
   "outputs": [],
   "source": []
  }
 ],
 "metadata": {
  "kernelspec": {
   "display_name": "Python 3",
   "language": "python",
   "name": "python3"
  },
  "language_info": {
   "codemirror_mode": {
    "name": "ipython",
    "version": 3
   },
   "file_extension": ".py",
   "mimetype": "text/x-python",
   "name": "python",
   "nbconvert_exporter": "python",
   "pygments_lexer": "ipython3",
   "version": "3.6.10"
  }
 },
 "nbformat": 4,
 "nbformat_minor": 4
}
